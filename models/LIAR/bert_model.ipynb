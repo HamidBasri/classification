{
 "cells": [
  {
   "cell_type": "code",
   "execution_count": 1,
   "metadata": {},
   "outputs": [],
   "source": [
    "\n",
    "# Core\n",
    "import re\n",
    "\n",
    "#Data Manipulation \n",
    "import pandas as pd\n",
    "\n",
    "# Preprocessing Tools\n",
    "from sklearn.pipeline import Pipeline\n",
    "\n",
    "\n",
    "# NLP Tools\n",
    "from nltk.tokenize import word_tokenize\n",
    "from nltk.stem import PorterStemmer, WordNetLemmatizer\n",
    "from nltk.corpus import stopwords\n",
    "\n",
    "\n",
    "\n",
    "# Neural Networks\n",
    "import tensorflow as tf\n",
    "import keras\n",
    "\n",
    "\n",
    "\n",
    "# Ignore any warnings\n",
    "import warnings;\n",
    "warnings.filterwarnings('ignore')"
   ]
  },
  {
   "cell_type": "code",
   "execution_count": 2,
   "metadata": {},
   "outputs": [],
   "source": [
    "from transformers import BertTokenizer, TFBertForSequenceClassification, Trainer, TrainingArguments\n",
    "from sklearn.model_selection import train_test_split\n",
    "from sklearn.metrics import accuracy_score\n",
    "from sklearn.preprocessing import FunctionTransformer"
   ]
  },
  {
   "cell_type": "code",
   "execution_count": 3,
   "metadata": {},
   "outputs": [],
   "source": [
    "\n",
    "import pandas as pd\n",
    "\n",
    "col_names = [\n",
    "        'id',               # Column 1: the ID of the statement ([ID].json).\n",
    "        'label',            # Column 2: the label.\n",
    "        'statement',        # Column 3: the statement.\n",
    "        'subjects',         # Column 4: the subject(s).\n",
    "        'speaker',          # Column 5: the speaker.\n",
    "        'speaker_job_title', # Column 6: the speaker's job title.\n",
    "        'state_info',       # Column 7: the state info.\n",
    "        'party_affiliation', # Column 8: the party affiliation.\n",
    "        \n",
    "        'barely_true', # barely true counts.\n",
    "        'false', # false counts.\n",
    "        'half_true', # half true counts.\n",
    "        'mostly_true', # mostly true counts.\n",
    "        'pants_on_fire', # pants on fire counts.\n",
    "        \n",
    "        'context' # Column 14: the context (venue / location of the speech or statement).\n",
    "    ]\n",
    "\n",
    "def read_df(tsv_file: str) -> pd.DataFrame:\n",
    "    df = pd.read_csv(tsv_file, delimiter='\\t', dtype=object)\n",
    "    # replaces all \"null\" or \"NaN\" values with an empty string\n",
    "    df.fillna(\"\", inplace=True)\n",
    "    # labels the columns in the dataset using the data dictionary described in the README\n",
    "    df.columns = col_names\n",
    "    df = df.dropna(subset=[\"label\", \"statement\"])\n",
    "    df.drop([\"id\"], axis=1, inplace=True)\n",
    "    return df\n",
    "\n",
    "train_df = read_df('datasets/train.tsv')\n",
    "test_df = read_df('datasets/test.tsv')\n",
    "valid_df = read_df('datasets/valid.tsv')\n"
   ]
  },
  {
   "cell_type": "code",
   "execution_count": 4,
   "metadata": {},
   "outputs": [],
   "source": [
    "\n",
    "def reset_index(df):\n",
    "    df = df.reset_index(drop=True)\n",
    "    return df\n",
    "\n",
    "def drop_na(df):\n",
    "    df = df.dropna(subset=['input'], axis=0)\n",
    "    return df\n",
    "\n",
    "def drop_duplicated(df):\n",
    "    df = df.drop_duplicates()\n",
    "    return df\n",
    "\n",
    "\n",
    "def label(df):\n",
    "    df['output'] = df['label'].map({'true': 1,\n",
    "                                     'mostly-true': 1,\n",
    "                                     'half-true': 1,\n",
    "                                     'false': 0,\n",
    "                                     'barely-true': 0,\n",
    "                                     'pants-fire': 0}).astype(int)\n",
    "    return df\n",
    "\n",
    "\n",
    "def clean_text(text):\n",
    "    if not isinstance(text, str):\n",
    "        return ''\n",
    "    processed_text = text.lower()\n",
    "    \n",
    "    processed_text=re.sub(re.compile('[/(){}\\[\\]\\|@,;]'),' ',processed_text)\n",
    "    processed_text=re.sub(re.compile('[^0-9a-z #+_]'),' ',processed_text)\n",
    "    \n",
    "     # Tokenization\n",
    "    words = word_tokenize(processed_text)\n",
    "    \n",
    "    # Lemmatize and stem each word\n",
    "    stemmer = PorterStemmer()\n",
    "    lemmatizer = WordNetLemmatizer()\n",
    "    stemmed_words = [lemmatizer.lemmatize(stemmer.stem(word)) for word in words]\n",
    "    \n",
    "    # Stop word removal\n",
    "    stop_words = set(stopwords.words('english'))\n",
    "    stop_words.update(['say', 'percent', 'state', 'year', 'said', 'people', 'one'])\n",
    "    filtered_words = [word for word in stemmed_words if word.lower() not in stop_words]\n",
    "    # Combine words back into a sentence\n",
    "    processed_text = ' '.join(filtered_words)\n",
    "    \n",
    "    return processed_text\n",
    "\n",
    "def clean_df(df):\n",
    "    df['input'] = df['input'].apply(lambda x: clean_text(x))\n",
    "    return df\n"
   ]
  },
  {
   "cell_type": "code",
   "execution_count": 5,
   "metadata": {},
   "outputs": [],
   "source": [
    "cleaning_pipeline = Pipeline(steps=[\n",
    "    ('drop_na', FunctionTransformer(drop_na)),\n",
    "    ('drop_duplicated', FunctionTransformer(drop_duplicated)),\n",
    "    ('label', FunctionTransformer(label)),\n",
    "    ('clean', FunctionTransformer(clean_df)),\n",
    "    ('reset_index', FunctionTransformer(reset_index))\n",
    "])"
   ]
  },
  {
   "cell_type": "code",
   "execution_count": 6,
   "metadata": {},
   "outputs": [],
   "source": [
    "x_features = [\"statement\", \"subjects\", \"speaker\", \"context\", \"speaker_job_title\", \"state_info\", 'barely_true', 'false', 'half_true', 'mostly_true', 'pants_on_fire']\n",
    "# x_features = [\"statement\"]\n",
    "y_feature = [\"output\"]\n",
    "\n",
    "\n",
    "train_df[\"input\"] = train_df[x_features].apply(lambda row: ' '.join(map(str, row)), axis=1)\n",
    "test_df[\"input\"] = test_df[x_features].apply(lambda row: ' '.join(map(str, row)), axis=1)\n",
    "valid_df[\"input\"] = valid_df[x_features].apply(lambda row: ' '.join(map(str, row)), axis=1)\n",
    "\n",
    "# Clean all datasets\n",
    "train_df = cleaning_pipeline.fit_transform(train_df)\n",
    "test_df = cleaning_pipeline.transform(test_df)\n",
    "valid_df = cleaning_pipeline.transform(valid_df)\n",
    "\n",
    "\n",
    "train_clean_df = train_df[[\"input\", \"output\"]]\n",
    "test_clean_df = test_df[[\"input\", \"output\"]]\n",
    "valid_clean_df = valid_df[[\"input\", \"output\"]]\n"
   ]
  },
  {
   "cell_type": "code",
   "execution_count": 7,
   "metadata": {},
   "outputs": [
    {
     "data": {
      "text/html": [
       "<div>\n",
       "<style scoped>\n",
       "    .dataframe tbody tr th:only-of-type {\n",
       "        vertical-align: middle;\n",
       "    }\n",
       "\n",
       "    .dataframe tbody tr th {\n",
       "        vertical-align: top;\n",
       "    }\n",
       "\n",
       "    .dataframe thead th {\n",
       "        text-align: right;\n",
       "    }\n",
       "</style>\n",
       "<table border=\"1\" class=\"dataframe\">\n",
       "  <thead>\n",
       "    <tr style=\"text-align: right;\">\n",
       "      <th></th>\n",
       "      <th>input</th>\n",
       "      <th>output</th>\n",
       "    </tr>\n",
       "  </thead>\n",
       "  <tbody>\n",
       "    <tr>\n",
       "      <th>0</th>\n",
       "      <td>declin coal start start natur ga took start begin presid georg w bush administr energi histori job accomplish scott surovel floor speech deleg virginia 0 0 1 1 0</td>\n",
       "      <td>1</td>\n",
       "    </tr>\n",
       "    <tr>\n",
       "      <th>1</th>\n",
       "      <td>hillari clinton agre john mccain vote give georg bush benefit doubt iran foreign polici barack obama denver presid illinoi 70 71 160 163 9</td>\n",
       "      <td>1</td>\n",
       "    </tr>\n",
       "    <tr>\n",
       "      <th>2</th>\n",
       "      <td>health care reform legisl like mandat free sex chang surgeri health care blog post news releas 7 19 3 5 44</td>\n",
       "      <td>0</td>\n",
       "    </tr>\n",
       "    <tr>\n",
       "      <th>3</th>\n",
       "      <td>econom turnaround start end term economi job charli crist interview cnn florida 15 9 20 19 2</td>\n",
       "      <td>1</td>\n",
       "    </tr>\n",
       "    <tr>\n",
       "      <th>4</th>\n",
       "      <td>chicago bear start quarterback last 10 total number tenur uw faculti fire dure last two decad educ robin vo onlin opinion piec wisconsin assembl speaker wisconsin 0 3 2 5 1</td>\n",
       "      <td>1</td>\n",
       "    </tr>\n",
       "  </tbody>\n",
       "</table>\n",
       "</div>"
      ],
      "text/plain": [
       "                                                                                                                                                                          input  \\\n",
       "0             declin coal start start natur ga took start begin presid georg w bush administr energi histori job accomplish scott surovel floor speech deleg virginia 0 0 1 1 0   \n",
       "1                                    hillari clinton agre john mccain vote give georg bush benefit doubt iran foreign polici barack obama denver presid illinoi 70 71 160 163 9   \n",
       "2                                                                    health care reform legisl like mandat free sex chang surgeri health care blog post news releas 7 19 3 5 44   \n",
       "3                                                                                  econom turnaround start end term economi job charli crist interview cnn florida 15 9 20 19 2   \n",
       "4  chicago bear start quarterback last 10 total number tenur uw faculti fire dure last two decad educ robin vo onlin opinion piec wisconsin assembl speaker wisconsin 0 3 2 5 1   \n",
       "\n",
       "   output  \n",
       "0       1  \n",
       "1       1  \n",
       "2       0  \n",
       "3       1  \n",
       "4       1  "
      ]
     },
     "execution_count": 7,
     "metadata": {},
     "output_type": "execute_result"
    }
   ],
   "source": [
    "pd.set_option('display.max_colwidth', 500)\n",
    "train_clean_df.head()"
   ]
  },
  {
   "cell_type": "code",
   "execution_count": null,
   "metadata": {},
   "outputs": [],
   "source": [
    "# Load pre-trained BERT model and tokenizer\n",
    "model_name = \"bert-base-uncased\"\n",
    "tokenizer = BertTokenizer.from_pretrained(model_name)\n",
    "model = TFBertForSequenceClassification.from_pretrained(model_name, num_labels=2)\n"
   ]
  },
  {
   "cell_type": "code",
   "execution_count": 9,
   "metadata": {},
   "outputs": [],
   "source": [
    "# Tokenize and encode the training and validation sets\n",
    "train_encodings = tokenizer(train_clean_df[\"input\"].tolist(), truncation=True, padding=True, return_tensors=\"tf\")\n",
    "val_encodings = tokenizer(valid_clean_df[\"input\"].tolist(), truncation=True, padding=True, return_tensors=\"tf\")\n"
   ]
  },
  {
   "cell_type": "code",
   "execution_count": 10,
   "metadata": {},
   "outputs": [],
   "source": [
    "# Convert labels to TensorFlow tensors\n",
    "train_labels = tf.convert_to_tensor(train_clean_df[\"output\"])\n",
    "val_labels = tf.convert_to_tensor(valid_clean_df[\"output\"])"
   ]
  },
  {
   "cell_type": "code",
   "execution_count": 11,
   "metadata": {},
   "outputs": [],
   "source": [
    "# Define the model\n",
    "input_ids = tf.keras.layers.Input(shape=(None,), dtype=tf.int32, name=\"input_ids\")\n",
    "attention_mask = tf.keras.layers.Input(shape=(None,), dtype=tf.int32, name=\"attention_mask\")\n"
   ]
  },
  {
   "cell_type": "code",
   "execution_count": 12,
   "metadata": {},
   "outputs": [],
   "source": [
    "bert_output = model(input_ids, attention_mask=attention_mask)\n",
    "output = tf.keras.layers.Dense(2, activation=\"softmax\")(bert_output.logits)\n"
   ]
  },
  {
   "cell_type": "code",
   "execution_count": 13,
   "metadata": {},
   "outputs": [],
   "source": [
    "tf_model = tf.keras.Model(inputs=[input_ids, attention_mask], outputs=output)\n"
   ]
  },
  {
   "cell_type": "code",
   "execution_count": null,
   "metadata": {},
   "outputs": [],
   "source": [
    "# Compile the model\n",
    "tf_model.compile(optimizer=keras.optimizers.Adam(learning_rate=0.3), loss=\"sparse_categorical_crossentropy\", metrics=[\"accuracy\"])\n"
   ]
  },
  {
   "cell_type": "code",
   "execution_count": null,
   "metadata": {},
   "outputs": [],
   "source": [
    "# Train the model\n",
    "history = tf_model.fit(\n",
    "    {\"input_ids\": train_encodings[\"input_ids\"], \"attention_mask\": train_encodings[\"attention_mask\"]},\n",
    "    train_labels,\n",
    "    validation_data=({\"input_ids\": val_encodings[\"input_ids\"], \"attention_mask\": val_encodings[\"attention_mask\"]}, val_labels),\n",
    "    epochs=3,\n",
    "    batch_size=512,\n",
    ")\n"
   ]
  },
  {
   "cell_type": "code",
   "execution_count": null,
   "metadata": {},
   "outputs": [],
   "source": [
    "# Evaluate the model on the validation set\n",
    "val_predictions = tf_model.predict({\"input_ids\": val_encodings[\"input_ids\"], \"attention_mask\": val_encodings[\"attention_mask\"]})\n",
    "val_predictions_labels = tf.argmax(val_predictions, axis=1).numpy()\n",
    "\n",
    "val_accuracy = accuracy_score(val_labels, val_predictions_labels)\n",
    "print(\"Validation Accuracy:\", val_accuracy)"
   ]
  }
 ],
 "metadata": {
  "kernelspec": {
   "display_name": "tensorflow",
   "language": "python",
   "name": "python3"
  },
  "language_info": {
   "codemirror_mode": {
    "name": "ipython",
    "version": 3
   },
   "file_extension": ".py",
   "mimetype": "text/x-python",
   "name": "python",
   "nbconvert_exporter": "python",
   "pygments_lexer": "ipython3",
   "version": "3.9.18"
  }
 },
 "nbformat": 4,
 "nbformat_minor": 2
}
