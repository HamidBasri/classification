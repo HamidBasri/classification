{
 "cells": [
  {
   "cell_type": "code",
   "execution_count": 2,
   "metadata": {},
   "outputs": [],
   "source": [
    "import joblib\n",
    "\n",
    "estimator = joblib.load(\"estimator.joblib\")\n"
   ]
  },
  {
   "cell_type": "code",
   "execution_count": 15,
   "metadata": {},
   "outputs": [],
   "source": [
    "import pandas as pd\n",
    "\n",
    "\n",
    "col_names = [\n",
    "        'id',               # Column 1: the ID of the statement ([ID].json).\n",
    "        'label',            # Column 2: the label.\n",
    "        'statement',        # Column 3: the statement.\n",
    "        'subjects',         # Column 4: the subject(s).\n",
    "        'speaker',          # Column 5: the speaker.\n",
    "        'speaker_job_title', # Column 6: the speaker's job title.\n",
    "        'state_info',       # Column 7: the state info.\n",
    "        'party_affiliation', # Column 8: the party affiliation.\n",
    "        \n",
    "        'barely_true', # barely true counts.\n",
    "        'false', # false counts.\n",
    "        'half_true', # half true counts.\n",
    "        'mostly_true', # mostly true counts.\n",
    "        'pants_on_fire', # pants on fire counts.\n",
    "        \n",
    "        'context' # Column 14: the context (venue / location of the speech or statement).\n",
    "    ]\n",
    "def read_df(tsv_file: str) -> pd.DataFrame:\n",
    "    df = pd.read_csv(tsv_file, delimiter='\\t', dtype=object)\n",
    "    # replaces all \"null\" or \"NaN\" values with an empty string\n",
    "    df.fillna(\"\", inplace=True)\n",
    "    # labels the columns in the dataset using the data dictionary described in the README\n",
    "    df.columns = col_names\n",
    "    df = df.dropna(subset=[\"label\", \"statement\"])\n",
    "    df.drop([\"id\"], axis=1, inplace=True)\n",
    "    return df\n",
    "\n",
    "train_df = read_df('datasets/train.tsv')\n",
    "test_df = read_df('datasets/test.tsv')\n",
    "valid_df = read_df('datasets/valid.tsv')"
   ]
  },
  {
   "cell_type": "code",
   "execution_count": 17,
   "metadata": {},
   "outputs": [
    {
     "data": {
      "text/plain": [
       "0        When did the decline of coal start? It started...\n",
       "1        Hillary Clinton agrees with John McCain \"by vo...\n",
       "2        Health care reform legislation is likely to ma...\n",
       "3        The economic turnaround started at the end of ...\n",
       "4        The Chicago Bears have had more starting quart...\n",
       "                               ...                        \n",
       "10234    There are a larger number of shark attacks in ...\n",
       "10235    Democrats have now become the party of the [At...\n",
       "10236    Says an alternative to Social Security that op...\n",
       "10237    On lifting the U.S. Cuban embargo and allowing...\n",
       "10238    The Department of Veterans Affairs has a manua...\n",
       "Name: statement, Length: 10239, dtype: object"
      ]
     },
     "execution_count": 17,
     "metadata": {},
     "output_type": "execute_result"
    }
   ],
   "source": [
    "train_df[\"statement\"]"
   ]
  },
  {
   "cell_type": "code",
   "execution_count": 19,
   "metadata": {},
   "outputs": [
    {
     "data": {
      "text/plain": [
       "array([1, 1, 0, 1, 1, 0, 0, 1, 0, 1])"
      ]
     },
     "execution_count": 19,
     "metadata": {},
     "output_type": "execute_result"
    }
   ],
   "source": [
    "estimator.predict(train_df[\"statement\"])[:10]"
   ]
  },
  {
   "cell_type": "code",
   "execution_count": 21,
   "metadata": {},
   "outputs": [
    {
     "data": {
      "text/plain": [
       "0      half-true\n",
       "1    mostly-true\n",
       "2          false\n",
       "3      half-true\n",
       "4           true\n",
       "5    barely-true\n",
       "6      half-true\n",
       "7      half-true\n",
       "8    mostly-true\n",
       "9    mostly-true\n",
       "Name: label, dtype: object"
      ]
     },
     "execution_count": 21,
     "metadata": {},
     "output_type": "execute_result"
    }
   ],
   "source": [
    "train_df[\"label\"][:10]"
   ]
  }
 ],
 "metadata": {
  "kernelspec": {
   "display_name": "tensorflow",
   "language": "python",
   "name": "python3"
  },
  "language_info": {
   "codemirror_mode": {
    "name": "ipython",
    "version": 3
   },
   "file_extension": ".py",
   "mimetype": "text/x-python",
   "name": "python",
   "nbconvert_exporter": "python",
   "pygments_lexer": "ipython3",
   "version": "3.9.18"
  }
 },
 "nbformat": 4,
 "nbformat_minor": 2
}
